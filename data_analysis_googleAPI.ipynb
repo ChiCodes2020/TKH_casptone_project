{
 "cells": [
  {
   "cell_type": "code",
   "execution_count": 1,
   "metadata": {},
   "outputs": [],
   "source": [
    "import pandas as pd\n",
    "import sqlite3 as sql"
   ]
  },
  {
   "cell_type": "code",
   "execution_count": 6,
   "metadata": {},
   "outputs": [],
   "source": [
    "db = 'employment_data.db'\n",
    "conn = sql.connect(db)"
   ]
  },
  {
   "cell_type": "code",
   "execution_count": 7,
   "metadata": {
    "scrolled": true
   },
   "outputs": [],
   "source": [
    "df = pd.read_sql(\"SELECT * FROM employment_data;\", conn)"
   ]
  },
  {
   "cell_type": "code",
   "execution_count": 8,
   "metadata": {
    "scrolled": false
   },
   "outputs": [
    {
     "data": {
      "text/html": [
       "<div>\n",
       "<style scoped>\n",
       "    .dataframe tbody tr th:only-of-type {\n",
       "        vertical-align: middle;\n",
       "    }\n",
       "\n",
       "    .dataframe tbody tr th {\n",
       "        vertical-align: top;\n",
       "    }\n",
       "\n",
       "    .dataframe thead th {\n",
       "        text-align: right;\n",
       "    }\n",
       "</style>\n",
       "<table border=\"1\" class=\"dataframe\">\n",
       "  <thead>\n",
       "    <tr style=\"text-align: right;\">\n",
       "      <th></th>\n",
       "      <th>id</th>\n",
       "      <th>title</th>\n",
       "      <th>company_name</th>\n",
       "      <th>location</th>\n",
       "      <th>via</th>\n",
       "      <th>description</th>\n",
       "      <th>schedule_type</th>\n",
       "      <th>job_id</th>\n",
       "    </tr>\n",
       "  </thead>\n",
       "  <tbody>\n",
       "  </tbody>\n",
       "</table>\n",
       "</div>"
      ],
      "text/plain": [
       "Empty DataFrame\n",
       "Columns: [id, title, company_name, location, via, description, schedule_type, job_id]\n",
       "Index: []"
      ]
     },
     "execution_count": 8,
     "metadata": {},
     "output_type": "execute_result"
    }
   ],
   "source": [
    "df"
   ]
  },
  {
   "cell_type": "code",
   "execution_count": 10,
   "metadata": {},
   "outputs": [],
   "source": [
    "conn.close()"
   ]
  },
  {
   "cell_type": "code",
   "execution_count": 9,
   "metadata": {
    "scrolled": true
   },
   "outputs": [
    {
     "name": "stdout",
     "output_type": "stream",
     "text": [
      "<class 'pandas.core.frame.DataFrame'>\n",
      "Index: 0 entries\n",
      "Data columns (total 8 columns):\n",
      " #   Column         Non-Null Count  Dtype \n",
      "---  ------         --------------  ----- \n",
      " 0   id             0 non-null      object\n",
      " 1   title          0 non-null      object\n",
      " 2   company_name   0 non-null      object\n",
      " 3   location       0 non-null      object\n",
      " 4   via            0 non-null      object\n",
      " 5   description    0 non-null      object\n",
      " 6   schedule_type  0 non-null      object\n",
      " 7   job_id         0 non-null      object\n",
      "dtypes: object(8)\n",
      "memory usage: 0.0+ bytes\n"
     ]
    }
   ],
   "source": [
    "df.info()"
   ]
  },
  {
   "cell_type": "code",
   "execution_count": 40,
   "metadata": {},
   "outputs": [],
   "source": [
    "df['description'] = df['description'].str.replace('\\n', ' ')"
   ]
  },
  {
   "cell_type": "code",
   "execution_count": 41,
   "metadata": {},
   "outputs": [
    {
     "data": {
      "text/html": [
       "<div>\n",
       "<style scoped>\n",
       "    .dataframe tbody tr th:only-of-type {\n",
       "        vertical-align: middle;\n",
       "    }\n",
       "\n",
       "    .dataframe tbody tr th {\n",
       "        vertical-align: top;\n",
       "    }\n",
       "\n",
       "    .dataframe thead th {\n",
       "        text-align: right;\n",
       "    }\n",
       "</style>\n",
       "<table border=\"1\" class=\"dataframe\">\n",
       "  <thead>\n",
       "    <tr style=\"text-align: right;\">\n",
       "      <th></th>\n",
       "      <th>id</th>\n",
       "      <th>title</th>\n",
       "      <th>company_name</th>\n",
       "      <th>location</th>\n",
       "      <th>via</th>\n",
       "      <th>description</th>\n",
       "      <th>schedule_type</th>\n",
       "      <th>job_id</th>\n",
       "    </tr>\n",
       "  </thead>\n",
       "  <tbody>\n",
       "    <tr>\n",
       "      <th>0</th>\n",
       "      <td>None</td>\n",
       "      <td>Software Engineer - All levels</td>\n",
       "      <td>Bubble</td>\n",
       "      <td>New York, NY</td>\n",
       "      <td>via AngelList</td>\n",
       "      <td>For 95% of programming jobs, the primary focus...</td>\n",
       "      <td>Full-time</td>\n",
       "      <td>eyJqb2JfdGl0bGUiOiJTb2Z0d2FyZSBFbmdpbmVlciAtIE...</td>\n",
       "    </tr>\n",
       "    <tr>\n",
       "      <th>1</th>\n",
       "      <td>None</td>\n",
       "      <td>Backend Software Engineer</td>\n",
       "      <td>The New York Times</td>\n",
       "      <td>New York, NY</td>\n",
       "      <td>via LinkedIn</td>\n",
       "      <td>Job Description  Every day, journalists at The...</td>\n",
       "      <td>Full-time</td>\n",
       "      <td>eyJqb2JfdGl0bGUiOiJCYWNrZW5kIFNvZnR3YXJlIEVuZ2...</td>\n",
       "    </tr>\n",
       "    <tr>\n",
       "      <th>2</th>\n",
       "      <td>None</td>\n",
       "      <td>Software Engineer - Enterprise (New York, NY)</td>\n",
       "      <td>Figma</td>\n",
       "      <td>New York, NY</td>\n",
       "      <td>via Lever</td>\n",
       "      <td>Figma is adding to our team of passionate peop...</td>\n",
       "      <td>Full-time</td>\n",
       "      <td>eyJqb2JfdGl0bGUiOiJTb2Z0d2FyZSBFbmdpbmVlciAtIE...</td>\n",
       "    </tr>\n",
       "    <tr>\n",
       "      <th>3</th>\n",
       "      <td>None</td>\n",
       "      <td>Software Engineer - Apple Media Products, Core...</td>\n",
       "      <td>Apple</td>\n",
       "      <td>New York, NY</td>\n",
       "      <td>via Careers At Apple</td>\n",
       "      <td>Summary Posted: May 25, 2021  Role Number:2002...</td>\n",
       "      <td>Full-time</td>\n",
       "      <td>eyJqb2JfdGl0bGUiOiJTb2Z0d2FyZSBFbmdpbmVlciAtIE...</td>\n",
       "    </tr>\n",
       "    <tr>\n",
       "      <th>4</th>\n",
       "      <td>None</td>\n",
       "      <td>Software Engineer</td>\n",
       "      <td>Behold.ai</td>\n",
       "      <td>New York, NY</td>\n",
       "      <td>via Glassdoor</td>\n",
       "      <td>Location: New York  We are currently seeking o...</td>\n",
       "      <td>Full-time</td>\n",
       "      <td>eyJqb2JfdGl0bGUiOiJTb2Z0d2FyZSBFbmdpbmVlciIsIm...</td>\n",
       "    </tr>\n",
       "    <tr>\n",
       "      <th>5</th>\n",
       "      <td>None</td>\n",
       "      <td>Software Engineer</td>\n",
       "      <td>Orchard</td>\n",
       "      <td>New York, NY</td>\n",
       "      <td>via Greenhouse</td>\n",
       "      <td>About the Role and Team  This is an exciting o...</td>\n",
       "      <td>Full-time</td>\n",
       "      <td>eyJqb2JfdGl0bGUiOiJTb2Z0d2FyZSBFbmdpbmVlciIsIm...</td>\n",
       "    </tr>\n",
       "    <tr>\n",
       "      <th>6</th>\n",
       "      <td>None</td>\n",
       "      <td>Software Engineer</td>\n",
       "      <td>Robinhood</td>\n",
       "      <td>New York, NY</td>\n",
       "      <td>via LinkedIn</td>\n",
       "      <td>Join a leading fintech company that’s democrat...</td>\n",
       "      <td>Full-time</td>\n",
       "      <td>eyJqb2JfdGl0bGUiOiJTb2Z0d2FyZSBFbmdpbmVlciIsIm...</td>\n",
       "    </tr>\n",
       "    <tr>\n",
       "      <th>7</th>\n",
       "      <td>None</td>\n",
       "      <td>Senior Software Engineer</td>\n",
       "      <td>Sawyer</td>\n",
       "      <td>Anywhere</td>\n",
       "      <td>via AngelList</td>\n",
       "      <td>Sawyer, the out of school enrichment solution ...</td>\n",
       "      <td>Full-time</td>\n",
       "      <td>eyJqb2JfdGl0bGUiOiJTZW5pb3IgU29mdHdhcmUgRW5naW...</td>\n",
       "    </tr>\n",
       "    <tr>\n",
       "      <th>8</th>\n",
       "      <td>None</td>\n",
       "      <td>Staff Software Engineer</td>\n",
       "      <td>Google</td>\n",
       "      <td>New York, NY (+1 other)</td>\n",
       "      <td>via Glassdoor</td>\n",
       "      <td>Minimum qualifications: • Bachelor's degree in...</td>\n",
       "      <td>Full-time</td>\n",
       "      <td>eyJqb2JfdGl0bGUiOiJTdGFmZiBTb2Z0d2FyZSBFbmdpbm...</td>\n",
       "    </tr>\n",
       "    <tr>\n",
       "      <th>9</th>\n",
       "      <td>None</td>\n",
       "      <td>Software Engineer (New York) / Generalist</td>\n",
       "      <td>Lattice</td>\n",
       "      <td>Brooklyn, NY</td>\n",
       "      <td>via Triplebyte</td>\n",
       "      <td>Lattice is a fast-growing, product focused com...</td>\n",
       "      <td>Full-time</td>\n",
       "      <td>eyJqb2JfdGl0bGUiOiJTb2Z0d2FyZSBFbmdpbmVlciAoTm...</td>\n",
       "    </tr>\n",
       "  </tbody>\n",
       "</table>\n",
       "</div>"
      ],
      "text/plain": [
       "     id                                              title  \\\n",
       "0  None                     Software Engineer - All levels   \n",
       "1  None                          Backend Software Engineer   \n",
       "2  None      Software Engineer - Enterprise (New York, NY)   \n",
       "3  None  Software Engineer - Apple Media Products, Core...   \n",
       "4  None                                  Software Engineer   \n",
       "5  None                                  Software Engineer   \n",
       "6  None                                  Software Engineer   \n",
       "7  None                           Senior Software Engineer   \n",
       "8  None                            Staff Software Engineer   \n",
       "9  None          Software Engineer (New York) / Generalist   \n",
       "\n",
       "         company_name                 location                   via  \\\n",
       "0              Bubble             New York, NY         via AngelList   \n",
       "1  The New York Times             New York, NY          via LinkedIn   \n",
       "2               Figma             New York, NY             via Lever   \n",
       "3               Apple             New York, NY  via Careers At Apple   \n",
       "4           Behold.ai             New York, NY         via Glassdoor   \n",
       "5             Orchard             New York, NY        via Greenhouse   \n",
       "6           Robinhood             New York, NY          via LinkedIn   \n",
       "7              Sawyer                 Anywhere         via AngelList   \n",
       "8              Google  New York, NY (+1 other)         via Glassdoor   \n",
       "9             Lattice             Brooklyn, NY        via Triplebyte   \n",
       "\n",
       "                                         description schedule_type  \\\n",
       "0  For 95% of programming jobs, the primary focus...     Full-time   \n",
       "1  Job Description  Every day, journalists at The...     Full-time   \n",
       "2  Figma is adding to our team of passionate peop...     Full-time   \n",
       "3  Summary Posted: May 25, 2021  Role Number:2002...     Full-time   \n",
       "4  Location: New York  We are currently seeking o...     Full-time   \n",
       "5  About the Role and Team  This is an exciting o...     Full-time   \n",
       "6  Join a leading fintech company that’s democrat...     Full-time   \n",
       "7  Sawyer, the out of school enrichment solution ...     Full-time   \n",
       "8  Minimum qualifications: • Bachelor's degree in...     Full-time   \n",
       "9  Lattice is a fast-growing, product focused com...     Full-time   \n",
       "\n",
       "                                              job_id  \n",
       "0  eyJqb2JfdGl0bGUiOiJTb2Z0d2FyZSBFbmdpbmVlciAtIE...  \n",
       "1  eyJqb2JfdGl0bGUiOiJCYWNrZW5kIFNvZnR3YXJlIEVuZ2...  \n",
       "2  eyJqb2JfdGl0bGUiOiJTb2Z0d2FyZSBFbmdpbmVlciAtIE...  \n",
       "3  eyJqb2JfdGl0bGUiOiJTb2Z0d2FyZSBFbmdpbmVlciAtIE...  \n",
       "4  eyJqb2JfdGl0bGUiOiJTb2Z0d2FyZSBFbmdpbmVlciIsIm...  \n",
       "5  eyJqb2JfdGl0bGUiOiJTb2Z0d2FyZSBFbmdpbmVlciIsIm...  \n",
       "6  eyJqb2JfdGl0bGUiOiJTb2Z0d2FyZSBFbmdpbmVlciIsIm...  \n",
       "7  eyJqb2JfdGl0bGUiOiJTZW5pb3IgU29mdHdhcmUgRW5naW...  \n",
       "8  eyJqb2JfdGl0bGUiOiJTdGFmZiBTb2Z0d2FyZSBFbmdpbm...  \n",
       "9  eyJqb2JfdGl0bGUiOiJTb2Z0d2FyZSBFbmdpbmVlciAoTm...  "
      ]
     },
     "execution_count": 41,
     "metadata": {},
     "output_type": "execute_result"
    }
   ],
   "source": [
    "df"
   ]
  },
  {
   "cell_type": "code",
   "execution_count": 32,
   "metadata": {},
   "outputs": [
    {
     "data": {
      "text/plain": [
       "\"For 95% of programming jobs, the primary focus is on using abstractions. For instance, using React JS to build a responsive web portal, or hammering out an API in Express or Rocket. They are about taking ways of seeing the world that others have invented, and applying them to the task at hand.We value and respect this work, and our jobs involve a fair share of it, but we are looking for engineers who get up in the morning for the other 5%.We want the abstraction creators: the engineers who are more excited about the technology that doesn’t exist yet than the technology that does.We want people who are dreaming about creating new programming languages or operating system kernels, or even just small NPM packages with APIs that better reflect the problem space than prior abstractions.We need this because the business Bubble is in is taking common patterns for constructing software, and capturing those patterns in repeatable technology, so that they become accessible and intuitive... via our visual language. We are in the business of figuring out how to let our users express what they want to create as simply and directly as possible, and then solving the hard problems of taking what they express and running it performantly, scalably, and securely in the cloud.In addition to creating better abstractions, the other pole of Bubble's business is helping our users solve their problems. Our users build everything from community projects to VC-backed startups. We are often a critical part of our customers’ operations. As a Bubble engineer, you get a direct feedback loop with customers: our community is incredibly vocal, and whenever we announce a release on our community forum, it always sparks feedback and engagement, and often celebration.So, the other thing we look for and value in our hiring process is people who love to ship code and see it impact people's lives. We live in a dynamic tension between passionate love for technology in its pure form, and pragmatic caring for the end product. That tension is our secret sauce: the constant back-and-forth between solving the customer problem, and designing the right long-term solution is what's led to a product that people tell us literally changed their lives (read our last fundraising announcement, and our community's reaction to it).We have a number of hard problems we are trying to solve:• Ensuring user-written queries get compiled into scalable, high-performant SQL• Building tooling to help users secure their applications• Evolving our core language from being an interpreter to more of a compiler to enable faster page loads• Making Bubble easier to learn and more powerful by taking common user pain points and converting them into new language featuresWe are looking for experienced programmers excited to help us tackle them. The ideal candidate loves solving hard technical problems to achieve a business goal, and has invested in their craft with a diversity of experiences.Because we are hiring programmers to design and implement a new language, we don't have any hard requirements about what technologies you need to know coming in. Familiarity with our stack is helpful, but don’t hesitate to apply if you haven’t worked with all of these:• AWS• Postgres• Redis• Node• Coffee-Script• ES6We look for the following in candidates:• Goal orientation, and ability to find pragmatic solutions to hard problems• Strong communication skills: we believe that the ability to explain your work to others is important• Experience writing high-quality production code: ideally at least 1 - 2 years of professional experience, or multiple internships at startups or companies with strong tech cultures• Diversity of technical background: we like candidates who have worked with multiple languages and problem spaces, because we think that breadth of experience makes it easier to see multiple potential solutions to a problem• Alignment with our values: desire to empower others, a focus on team and user success over individual achievement, and transparency and willingness to admit mistakes and failures.We think Bubble is amazing, but we also think we have an incredibly long way to go. Our aim is huge: we are trying to replace the entire traditional engineering stack. As such, we think that we are going to continually build and rebuild our systems as we scale up: we have a limitless well of engineering challenges ahead of us to create the platform we envision. If you are passionate about creating technological leverage for people, and the idea of an early-but-growing startup whose main obstacle to success is our ability to solve hard engineering problems is exciting, we look forward to hearing from you!Note: at this time, we are only considering candidates who are authorized to work in the US (if you have an OPT or a current H1B, please apply!)Bubble focuses on SaaS, Databases, Web Development, and Programming. Their company has offices in New York City. They have a small team that's between 11-50 employees. To date, Bubble has raised $6.25M of funding; their latest round was closed on June 2019.You can view their website at https://bubble.io/ or find them on Twitter, Facebook, LinkedIn, and Product Hunt\""
      ]
     },
     "execution_count": 32,
     "metadata": {},
     "output_type": "execute_result"
    }
   ],
   "source": [
    "df['description'][0]"
   ]
  },
  {
   "cell_type": "code",
   "execution_count": null,
   "metadata": {},
   "outputs": [],
   "source": []
  }
 ],
 "metadata": {
  "kernelspec": {
   "display_name": "Python 3",
   "language": "python",
   "name": "python3"
  },
  "language_info": {
   "codemirror_mode": {
    "name": "ipython",
    "version": 3
   },
   "file_extension": ".py",
   "mimetype": "text/x-python",
   "name": "python",
   "nbconvert_exporter": "python",
   "pygments_lexer": "ipython3",
   "version": "3.8.5"
  }
 },
 "nbformat": 4,
 "nbformat_minor": 4
}
