{
 "cells": [
  {
   "cell_type": "code",
   "execution_count": 1,
   "metadata": {},
   "outputs": [],
   "source": [
    "import requests\n",
    "from bs4 import BeautifulSoup"
   ]
  },
  {
   "cell_type": "code",
   "execution_count": 3,
   "metadata": {},
   "outputs": [],
   "source": [
    "def extract(page):\n",
    "    url = f\"https://www.indeed.com/jobs?q=python&l=New+York%2C+NY&start={page}\"\n",
    "    r = requests.get(url, headers)\n",
    "    soup = BeautifulSoup(r.content, 'html.parser')\n",
    "    return soup"
   ]
  },
  {
   "cell_type": "code",
   "execution_count": 16,
   "metadata": {},
   "outputs": [],
   "source": [
    "c = extract(0)"
   ]
  },
  {
   "cell_type": "code",
   "execution_count": 24,
   "metadata": {},
   "outputs": [
    {
     "name": "stdout",
     "output_type": "stream",
     "text": [
      "/pagead/clk?mo=r&ad=-6NYlbfkN0CDg2PyOvLM5WFHaY3mOgSqyeWxPLwD-9Oy4oGnHKxnHGCrbD5tzl2QNjutMTQ2AVOsCz-JWHfTlzlO35rK6i25zA4HOv53QE7HzbFdMEOI16Pne74Z4yGG02WFiaQz9S9uEkWjrYjyxzf4s6IH2He1Gyzxj1BjOac3fpOvUHumlKP4ryewcCiF0KCMq1SJkwgE8n0ntOPeaIzCcS5qKRJzLCmKN9vnYnTxOr1c5DYhlS62M9sPF6-0msMJmIGKNx7CsVyxkiWm62gTJb4rkDaWbzocLb5_xfgssUGAkIEDUtb7rT93nJ_TM_aSV23EgU5mihJdf5ATIca7CbyvHVXd2ryx1enRJDsOpHjctGSeveKrmZ6ADYTaUGlLrI9DVuF_BPOhc1CKwmsBkwuYOJchLAA1PU_Fi5fx04U0r7E6PGHPnt2JBJge7DP2uIjCFf0rXyS9jTqjnuNEcU0Qv5ey&p=0&fvj=1&vjs=3\n",
      "['new', 'Data Analyst', 'Cornershop by Uber', '3.6', 'New York, NY', '•', 'Temporarily Remote', 'Urgently hiring', 'Creating reporting and visualizations to guide our business and allow team members to take action quickly.', 'Diving deep into Cornershop by Uber’s data as well as…', '7 days ago']\n",
      "\n",
      "\n",
      "/pagead/clk?mo=r&ad=-6NYlbfkN0BWDhERcgegtO3fQgQ6i1lKFLXqfs8lEm3nmlRKvZdoSOmcEpi6eRTO-dPxXMXK_bLJfB0mdH74lyan7FPkLG0nyn-IGtvU_7fsPnX_CNkm7Dr68KS75cPuHWBWvc-uk5d6aZXzcWOOljsXWltm_XCDo8UHn3syakNbh39sX7q2mcKmU1ezdAJtxY5g9lADmK4NGq2J74tNWFiMLQpcHT_tAJmya9OfCbqTxG8GgTvbzer66WBlepLNvRlXNVaxIlApfG3VML0ousNak1GhC60tWppp25qlhzFAbtK-qAy4HUYCw09SOYCnGDmi-4dWsUsd6OOvnKEjzRaAYNx04Bq9E4Xi6jirgnLprwielpc6slUFQtU66ztsj1M2PTVjN06e3i2soTn_Mxjc-9zj5otZUNa3aPMFmRj4Iwm6MBvWk-whjXncSKCXhi2L10QPqII=&p=1&fvj=1&vjs=3\n",
      "['Python Developer', 'Systemonex INC', 'New York, NY', '$35 - $45 an hour', 'Requirements', \"Bachelor's\", 'Easily apply', 'Urgently hiring', 'The company with relevant services and trustworthy efforts.', 'Systemonex Inc maintains the standard as suitable scientific techniques and surveys.', '30+ days ago']\n",
      "\n",
      "\n",
      "/pagead/clk?mo=r&ad=-6NYlbfkN0Cmq1pj5Dwku4j-j-jMxiR3p8DjIx5wPgrGZP7N5_dynGcPrp9S6jFT9rQaxa2Xft6cp9yqzzBiR7TvjPBRNl32qlDRWb6URziI0jP0S686BAU7I-sZwliitt9p4dyPt7bY80puIE6JPrteqJ_TD8midO9ShvQ9_tw84G7PQgoZH3E64rGg0ujTm5SBhOUHUsB2EhtGZqBac3Vpl-VjdW-suO_B0aGgU_khMz20K1NhNUWfhyXRXuEbl8jaijur4i68hD5XDoJaFJj0_8y0HdDZWJmXQQLypXZTMyexbU6_Z2aomMujSC_gvKpORHQhl6RsbLKsHrx0zdZFtF8IydlyWukm_5o9cpyhgjFUw5nmQ-sczmvPOGJUi9U75lVycF8Azpl0XL_Sund0cFKye8Ug8929FruHRXx5AWijWe0uvYTwnNPj8_6AQeuEsUGWh_a6bUGTdifw7SEj5mX-2dNciC8cC3Syvgs=&p=2&fvj=0&vjs=3\n",
      "['new', 'Remote Python Developer 1', 'AccruePartners', '3.8', 'New York, NY', '•', 'Remote', 'Here is a listing of what our company offers: 401(k) Medical, Dental, Vision, Life Insurance, Employee Assistance Program, Medical and Prescription Drug, Short…', '6 days ago']\n",
      "\n",
      "\n",
      "/rc/clk?jk=da727c0cddda240e&fccid=56a26d4c816e53d1&vjs=3\n",
      "['Data Technician (Full- or Part-Time)', 'Thasos Group', 'New York, NY', 'The Data Technician role is an entry-level position suitable for someone looking to break into the startup/big data world and gain experience working with top…', '30+ days ago', '·', 'More...', 'View all', 'Thasos Group jobs in New York, NY', '-', 'New York jobs']\n",
      "\n",
      "\n",
      "/rc/clk?jk=6dd414e5bf2653aa&fccid=5551312f0bfb4c11&vjs=3\n",
      "['Java / Python Tutors', 'SAM Consulting Services, Inc.', 'New York, NY', '•', 'Remote', 'We are looking for Java /', 'Python', 'Programming Tutors to teach part-time some evening (7pm-9:30pm) or/and weekend (10am-4pm) classes or/and afternoon.', '30+ days ago', '·', 'More...', 'View all', 'SAM Consulting Services, Inc. jobs in New York, NY', '-', 'New York jobs', 'Salary Search:', 'Java / Python Tutors salaries in New York, NY']\n",
      "\n",
      "\n",
      "/rc/clk?jk=361ddba2bb3e75b0&fccid=f8bb8eb40f54f89f&vjs=3\n",
      "['new', 'Associate Software Engineer Summer Internship (2021)', 'Scholastic', '3.7', 'New York, NY', 'This candidate will work as part of an interdisciplinary team of closely aligned business units to manage the full software development life cycle.', '4 days ago', '·', 'More...', 'View all', 'Scholastic jobs in New York, NY', '-', 'New York jobs', 'Salary Search:', 'Associate Software Engineer Summer Internship (2021) salaries in New York, NY', 'Learn more about working at', 'Scholastic', 'See popular', 'questions & answers about Scholastic']\n",
      "\n",
      "\n",
      "/rc/clk?jk=2534bc8f8edb6177&fccid=6262eae176df0db9&vjs=3\n",
      "['Analyst, Consumer Analytics', 'Major League Baseball', '4.2', 'New York, NY', 'The S&D organization works cross-functionally across MLB to support development and execution of our strategies for growing baseball globally.', '13 days ago', '·', 'More...', 'View all', 'Major League Baseball jobs in New York, NY', '-', 'New York jobs', 'Salary Search:', 'Analyst, Consumer Analytics salaries in New York, NY', 'See popular', 'questions & answers about Major League Baseball']\n",
      "\n",
      "\n",
      "/rc/clk?jk=df9c4fdb51cc3927&fccid=8077183a161ef0fd&vjs=3\n",
      "['new', 'Assistant Research Scientist, Part-time Nonexempt', 'New York University', '4.2', 'New York, NY', 'This is a part-time position starting immediately.', '(1) Analysis of behavioral, psychophysiological, and brain imaging data.', '1 day ago', '·', 'More...', 'View all', 'New York University jobs in New York, NY', '-', 'New York jobs', 'Salary Search:', 'Assistant Research Scientist, Part-time Nonexempt salaries in New York, NY', 'Learn more about working at', 'New York University', 'See popular', 'questions & answers about New York University']\n",
      "\n",
      "\n",
      "/rc/clk?jk=5d6843f2339bb52d&fccid=00ae4e776f21bc2f&vjs=3\n",
      "['2021 Internships', 'Rosenblatt Securities', '3.7', 'New York, NY', 'Rosenblatt Securities is seeking interns for immediate part time and full time summer 2021 to support a rapidly evolving team of equity research analysts on…', '30+ days ago', '·', 'More...', 'View all', 'Rosenblatt Securities jobs in New York, NY', '-', 'New York jobs', 'Salary Search:', '2021 Internships salaries in New York, NY']\n",
      "\n",
      "\n",
      "/rc/clk?jk=b761771d710b2c8e&fccid=b716e44d2c6283e7&vjs=3\n",
      "['new', 'Associate - U.S. ABS', 'S&P Global', '3.9', 'New York, NY', '$67,600 - $190,100 a year', 'In this role, the Associate is responsible for cash flow quantitative modeling and structural analytics and will also have some client-facing activities in…', '5 days ago', '·', 'More...', 'View all', 'S&P Global jobs in New York, NY', '-', 'New York jobs', 'Salary Search:', 'Associate - U.S. ABS salaries in New York, NY', 'See popular', 'questions & answers about S&P Global']\n",
      "\n",
      "\n",
      "/rc/clk?jk=51c74d9e45567650&fccid=b9d4e9eceb3ff4c0&vjs=3\n",
      "['new', 'People Operations Business Partner', 'Codecademy', '4.2', 'New York, NY', 'Serve as the hands-on relationship owner for a specific department and/or multiple teams.', 'Partner with other People Ops Business Partners and the larger People…', 'Today', '·', 'More...', 'View all', 'Codecademy jobs in New York, NY', '-', 'New York jobs', 'Salary Search:', 'People Operations Business Partner salaries in New York, NY', 'Learn more about working at', 'Codecademy']\n",
      "\n",
      "\n",
      "/rc/clk?jk=c2be4ed41c5b05ca&fccid=4640437a3109c91f&vjs=3\n",
      "['new', 'Data Analyst Intern', 'Dataiku', 'New York, NY', 'You will also support the full organization to self leverage data and capitalize on it.', 'You will work closely with all Dataiku teams to help them identify…', '1 day ago', '·', 'More...', 'View all', 'Dataiku jobs in New York, NY', '-', 'New York jobs', 'Salary Search:', 'Data Analyst Intern salaries in New York, NY']\n",
      "\n",
      "\n",
      "/rc/clk?jk=84bc6387ae011081&fccid=01b91641951e8886&vjs=3\n",
      "['new', 'Junior TradeOps Analyst', 'Hudson River Trading', '3.5', 'New York, NY', \"This includes configuring, monitoring, and optimizing the firm's trading as well as handling risk, regulatory, and development tasks.\", '1 day ago', '·', 'More...', 'View all', 'Hudson River Trading jobs in New York, NY', '-', 'New York jobs']\n",
      "\n",
      "\n",
      "/company/Emonics/jobs/Entry-Level-Data-Analyst-Python-a5c45eb09cee5ed8?fccid=038088bd3d7de39b&vjs=3\n",
      "['Entry level Data Analyst/Python', 'Emonics', 'Jersey City, NJ', '•', 'Temporarily Remote', '$20 - $35 an hour', 'Easily apply', 'Urgently hiring', '4-year degree from a respected institution, preferably in Computer Science.', 'Fluency in English with excellent verbal and written communication skills.', '9 days ago', '·', 'More...', 'View all', 'Emonics jobs in Jersey City, NJ', '-', 'Jersey City jobs', 'Salary Search:', 'Entry level Data Analyst/Python salaries in Jersey City, NJ']\n",
      "\n",
      "\n",
      "/company/Precision-Technologies-Corp/jobs/Python-Developer-f36400e9a15bdc2e?fccid=fe88d5b0b8a38d25&vjs=3\n",
      "['new', 'Python Developer', 'Precision Technologies Corp', 'New York, NY', '•', 'Temporarily Remote', 'Easily apply', 'Responsive employer', 'Urgently hiring', '#pythondevelopers #pythondjango #python #hiringdevelopers #pythondeveloper #hiring2021 #pythonlearning.', '\\\\*Write reusable, testable, and efficient code in Python…', 'Today', '·', 'More...', 'View all', 'Precision Technologies Corp jobs in New York, NY', '-', 'New York jobs', 'Salary Search:', 'Python Developer salaries in New York, NY']\n",
      "\n",
      "\n",
      "None\n"
     ]
    }
   ],
   "source": [
    "def transform(soup):\n",
    "    if soup:\n",
    "        divs = soup.find_all(id =\"mosaic-provider-jobcards\")\n",
    "        a_tags = divs[0].find_all('a', class_ = 'result')\n",
    "        for item in a_tags:\n",
    "            link = 'indeed.com' + item.get('href')\n",
    "            print(list(item.stripped_strings), end = '\\n\\n\\n')\n",
    "    else:\n",
    "        print('soup is empty')\n",
    "        \n",
    "print(transform(c))"
   ]
  },
  {
   "cell_type": "code",
   "execution_count": null,
   "metadata": {},
   "outputs": [],
   "source": []
  }
 ],
 "metadata": {
  "kernelspec": {
   "display_name": "Python 3",
   "language": "python",
   "name": "python3"
  },
  "language_info": {
   "codemirror_mode": {
    "name": "ipython",
    "version": 3
   },
   "file_extension": ".py",
   "mimetype": "text/x-python",
   "name": "python",
   "nbconvert_exporter": "python",
   "pygments_lexer": "ipython3",
   "version": "3.8.5"
  }
 },
 "nbformat": 4,
 "nbformat_minor": 4
}